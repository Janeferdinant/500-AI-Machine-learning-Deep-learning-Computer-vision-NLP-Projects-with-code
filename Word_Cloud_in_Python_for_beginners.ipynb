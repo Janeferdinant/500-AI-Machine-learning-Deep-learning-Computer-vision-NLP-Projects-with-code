{
  "metadata": {
    "kernelspec": {
      "language": "python",
      "display_name": "Python 3",
      "name": "python3"
    },
    "language_info": {
      "pygments_lexer": "ipython3",
      "nbconvert_exporter": "python",
      "version": "3.6.4",
      "file_extension": ".py",
      "codemirror_mode": {
        "name": "ipython",
        "version": 3
      },
      "name": "python",
      "mimetype": "text/x-python"
    },
    "kaggle": {
      "accelerator": "none",
      "dataSources": [
        {
          "sourceId": 81739,
          "sourceType": "datasetVersion",
          "datasetId": 6776
        },
        {
          "sourceId": 2294493,
          "sourceType": "datasetVersion",
          "datasetId": 1383092
        },
        {
          "sourceId": 2329568,
          "sourceType": "datasetVersion",
          "datasetId": 1406127
        }
      ],
      "dockerImageVersionId": 30096,
      "isInternetEnabled": true,
      "language": "python",
      "sourceType": "notebook",
      "isGpuEnabled": false
    },
    "colab": {
      "name": "Word Cloud in Python for beginners",
      "provenance": [],
      "include_colab_link": true
    }
  },
  "nbformat_minor": 0,
  "nbformat": 4,
  "cells": [
    {
      "cell_type": "markdown",
      "metadata": {
        "id": "view-in-github",
        "colab_type": "text"
      },
      "source": [
        "<a href=\"https://colab.research.google.com/github/Janeferdinant/500-AI-Machine-learning-Deep-learning-Computer-vision-NLP-Projects-with-code/blob/main/Word_Cloud_in_Python_for_beginners.ipynb\" target=\"_parent\"><img src=\"https://colab.research.google.com/assets/colab-badge.svg\" alt=\"Open In Colab\"/></a>"
      ]
    },
    {
      "source": [
        "\n",
        "# IMPORTANT: RUN THIS CELL IN ORDER TO IMPORT YOUR KAGGLE DATA SOURCES\n",
        "# TO THE CORRECT LOCATION (/kaggle/input) IN YOUR NOTEBOOK,\n",
        "# THEN FEEL FREE TO DELETE THIS CELL.\n",
        "# NOTE: THIS NOTEBOOK ENVIRONMENT DIFFERS FROM KAGGLE'S PYTHON\n",
        "# ENVIRONMENT SO THERE MAY BE MISSING LIBRARIES USED BY YOUR\n",
        "# NOTEBOOK.\n",
        "\n",
        "import os\n",
        "import sys\n",
        "from tempfile import NamedTemporaryFile\n",
        "from urllib.request import urlopen\n",
        "from urllib.parse import unquote, urlparse\n",
        "from urllib.error import HTTPError\n",
        "from zipfile import ZipFile\n",
        "import tarfile\n",
        "import shutil\n",
        "\n",
        "CHUNK_SIZE = 40960\n",
        "DATA_SOURCE_MAPPING = 'poetry:https%3A%2F%2Fstorage.googleapis.com%2Fkaggle-data-sets%2F6776%2F81739%2Fbundle%2Farchive.zip%3FX-Goog-Algorithm%3DGOOG4-RSA-SHA256%26X-Goog-Credential%3Dgcp-kaggle-com%2540kaggle-161607.iam.gserviceaccount.com%252F20240303%252Fauto%252Fstorage%252Fgoog4_request%26X-Goog-Date%3D20240303T183841Z%26X-Goog-Expires%3D259200%26X-Goog-SignedHeaders%3Dhost%26X-Goog-Signature%3D163a788162b761ab8418199d38fd5d2be207498f280cf0e3440bef31c1fdd450da96671c412b63513fc58dfe45bff75cf423b61d68d9084f0de75fd76a09f8ff4c8500e2bc874911a83e638ad67e8fae6fbeaf6c88bbbcffc0eb2a5f247758135dba9eed20c081b77493029051710fd2317831bfd7f1773731e110691d9aa686bbf157abfe9ae1cd4640d70c4c95fba460601b87fe8bc2b9e5dffe6fcd6b4fdc6e618dfa645123bb1912f9e415f7f43d5128f2232534e8c0d2ccb5c7e65f3e02502e2a89a9b11f6f12db2166e14c78c76d24f0bfab21bb8c11a3a2cba123eb5f30f9f492b80a3ebd2bac07ed2a0a66ad7b61617706fed1f6b07c2a7c5ae4829f,disney-characters-dataset:https%3A%2F%2Fstorage.googleapis.com%2Fkaggle-data-sets%2F1383092%2F2294493%2Fbundle%2Farchive.zip%3FX-Goog-Algorithm%3DGOOG4-RSA-SHA256%26X-Goog-Credential%3Dgcp-kaggle-com%2540kaggle-161607.iam.gserviceaccount.com%252F20240303%252Fauto%252Fstorage%252Fgoog4_request%26X-Goog-Date%3D20240303T183841Z%26X-Goog-Expires%3D259200%26X-Goog-SignedHeaders%3Dhost%26X-Goog-Signature%3D98406a23755c26426841aad9997e38debc908b68efef6a0b9b5bdad74d7ca1d5d7a4ba77fb127a6393fc3aa500803b68cc977af5443f2f6cd9ec4f9393281a50b7ec8aca95482664e7bc5eaa63c396f3ec6b6307970f54c6c45244a3990e2c5266656281f21398a895c39d2fa96d61d3c84fe77e0a5eb8c5b5deda8a548dcdf63ee4a4a0f563f9047a8dc30e87d7f7f95b24910d714d747c9647032c94ad43df1af9ca687767b7fe1836eb418c650ecde25786a0b9cf9d91c57465ceb12a95d6ea71945b438b74e8e340648e34f1700529dd729275e4895650fc582a28af121b004d607a0f8148e1a7e8f07ede67eb0d3b567f082b1c0b10cf53d6a7bafbfec3,game-of-thronesgot:https%3A%2F%2Fstorage.googleapis.com%2Fkaggle-data-sets%2F1406127%2F2329568%2Fbundle%2Farchive.zip%3FX-Goog-Algorithm%3DGOOG4-RSA-SHA256%26X-Goog-Credential%3Dgcp-kaggle-com%2540kaggle-161607.iam.gserviceaccount.com%252F20240303%252Fauto%252Fstorage%252Fgoog4_request%26X-Goog-Date%3D20240303T183841Z%26X-Goog-Expires%3D259200%26X-Goog-SignedHeaders%3Dhost%26X-Goog-Signature%3D4bad647ff77ca7438057efd3a1110b88849dd37b3b6f181c576349a9548d0b3cc4ccd8bb7f17df3d26a1e49c6a874f65a3ad2c1294c3a9d7ff03515a80afb007c1b38444f422735d747641c4fa274a09b6a550251947053da32d8c7f01e8fcaff2e21b38508bbaec399e028ae9aaa9b6b4b50e0a618c9ba0decc4fd34c26841bd7411f154addf5d022b6223b1cc542a4f319adc18c6d998046d8ba2dd92e82c0566b35c57d1fccfaf566e440911ae7ff55620720876a926cf4bc381537b6367695242e30b9f3de4fd09896414a6aecc9635e49a8212a6ef5a5beca9e1a52c7907e603b48ac19111905d6aca5e499269e576abb79c255325557a2e748c0d4f116'\n",
        "\n",
        "KAGGLE_INPUT_PATH='/kaggle/input'\n",
        "KAGGLE_WORKING_PATH='/kaggle/working'\n",
        "KAGGLE_SYMLINK='kaggle'\n",
        "\n",
        "!umount /kaggle/input/ 2> /dev/null\n",
        "shutil.rmtree('/kaggle/input', ignore_errors=True)\n",
        "os.makedirs(KAGGLE_INPUT_PATH, 0o777, exist_ok=True)\n",
        "os.makedirs(KAGGLE_WORKING_PATH, 0o777, exist_ok=True)\n",
        "\n",
        "try:\n",
        "  os.symlink(KAGGLE_INPUT_PATH, os.path.join(\"..\", 'input'), target_is_directory=True)\n",
        "except FileExistsError:\n",
        "  pass\n",
        "try:\n",
        "  os.symlink(KAGGLE_WORKING_PATH, os.path.join(\"..\", 'working'), target_is_directory=True)\n",
        "except FileExistsError:\n",
        "  pass\n",
        "\n",
        "for data_source_mapping in DATA_SOURCE_MAPPING.split(','):\n",
        "    directory, download_url_encoded = data_source_mapping.split(':')\n",
        "    download_url = unquote(download_url_encoded)\n",
        "    filename = urlparse(download_url).path\n",
        "    destination_path = os.path.join(KAGGLE_INPUT_PATH, directory)\n",
        "    try:\n",
        "        with urlopen(download_url) as fileres, NamedTemporaryFile() as tfile:\n",
        "            total_length = fileres.headers['content-length']\n",
        "            print(f'Downloading {directory}, {total_length} bytes compressed')\n",
        "            dl = 0\n",
        "            data = fileres.read(CHUNK_SIZE)\n",
        "            while len(data) > 0:\n",
        "                dl += len(data)\n",
        "                tfile.write(data)\n",
        "                done = int(50 * dl / int(total_length))\n",
        "                sys.stdout.write(f\"\\r[{'=' * done}{' ' * (50-done)}] {dl} bytes downloaded\")\n",
        "                sys.stdout.flush()\n",
        "                data = fileres.read(CHUNK_SIZE)\n",
        "            if filename.endswith('.zip'):\n",
        "              with ZipFile(tfile) as zfile:\n",
        "                zfile.extractall(destination_path)\n",
        "            else:\n",
        "              with tarfile.open(tfile.name) as tarfile:\n",
        "                tarfile.extractall(destination_path)\n",
        "            print(f'\\nDownloaded and uncompressed: {directory}')\n",
        "    except HTTPError as e:\n",
        "        print(f'Failed to load (likely expired) {download_url} to path {destination_path}')\n",
        "        continue\n",
        "    except OSError as e:\n",
        "        print(f'Failed to load {download_url} to path {destination_path}')\n",
        "        continue\n",
        "\n",
        "print('Data source import complete.')\n"
      ],
      "metadata": {
        "id": "kyt77oJZnILW"
      },
      "cell_type": "code",
      "outputs": [],
      "execution_count": null
    },
    {
      "cell_type": "markdown",
      "source": [
        "# Word Cloud in Python"
      ],
      "metadata": {
        "id": "etZSm8DZnILg"
      }
    },
    {
      "cell_type": "markdown",
      "source": [
        "A **word cloud** is a visually prominent presentation of “*keywords*” that appear frequently in text data. The rendering of keywords forms a cloud-like color picture, so that you can appreciate the main text data at a glance.<p>In Python, word cloud can be made with help of **wordcloud library**.<p>The core of the wordcloud library is the WordCloud class, and all functions are encapsulated in the WordCloud class. When using, you need to instantiate a **WordCloud** object, and call its **generate(text)** method to convert the text into a word cloud."
      ],
      "metadata": {
        "id": "NsFh1stznILk"
      }
    },
    {
      "cell_type": "markdown",
      "source": [
        "**Common parameters**\n",
        "\n",
        "\n",
        "- **width**: word cloud image width, default 400 pixels\n",
        "\n",
        "- **height**: word cloud image height default 200 pixels\n",
        "\n",
        "- **background_color**: the background color of the word cloud image, the default is black\n",
        "\n",
        "- *background_color=‘white’*\n",
        "\n",
        "- **font_step**: the step interval to increase the font size, the default is 1\n",
        "\n",
        "- **font_path**: specifies the font path, default None\n",
        "\n",
        "- **mini_font_size**: minimum font size, default size 4\n",
        "\n",
        "- **max_font_size**: maximum font size automatically adjusted according to height\n",
        "\n",
        "- **max_words**: maximum number of words, default 200\n",
        "\n",
        "- **stop_words**: words not displayed such as stop_words={“python”,“java”}\n",
        "\n",
        "- The default value of Scale is 1, the larger the value, the higher the image density, the clearer the image\n",
        "\n",
        "- **prefer_horizontal**: the default value is 0.90, floating-point type. Indicates that if it is not suitable horizontally, rotate to vertical\n",
        "\n",
        "- **relative_scaling**: the default value is 0.5, floating point type. Set the reverse order of word frequency, the size multiple of the previous word relative to the next word.\n",
        "\n",
        "- **mask**: specifies the word cloud shape picture, the default is rectangular"
      ],
      "metadata": {
        "id": "VKLetYl8nILl"
      }
    },
    {
      "cell_type": "markdown",
      "source": [
        "# Simple Word Cloud (default rectangle shape)"
      ],
      "metadata": {
        "id": "43o6WXdOnILn"
      }
    },
    {
      "cell_type": "code",
      "source": [
        "#Importing libraries\n",
        "\n",
        "import pandas as pd\n",
        "import matplotlib.pyplot as plt\n",
        "%matplotlib inline\n",
        "from wordcloud import WordCloud"
      ],
      "metadata": {
        "execution": {
          "iopub.status.busy": "2021-10-08T06:45:49.968531Z",
          "iopub.execute_input": "2021-10-08T06:45:49.969112Z",
          "iopub.status.idle": "2021-10-08T06:45:50.029297Z",
          "shell.execute_reply.started": "2021-10-08T06:45:49.969013Z",
          "shell.execute_reply": "2021-10-08T06:45:50.028204Z"
        },
        "trusted": true,
        "id": "I89RJNsCnILo"
      },
      "execution_count": null,
      "outputs": []
    },
    {
      "cell_type": "markdown",
      "source": [
        "You can work with any datasets or text files.<br>First I will use text from a dataset."
      ],
      "metadata": {
        "id": "s3WYm1tTnILp"
      }
    },
    {
      "cell_type": "code",
      "source": [
        "# importing dataset into a dataframe\n",
        "df = pd.read_csv(\"../input/game-of-thronesgot/game of thrones.csv\")\n",
        "# printing first five rows\n",
        "df.head()"
      ],
      "metadata": {
        "execution": {
          "iopub.status.busy": "2021-10-08T06:45:51.688243Z",
          "iopub.execute_input": "2021-10-08T06:45:51.688576Z",
          "iopub.status.idle": "2021-10-08T06:45:51.738751Z",
          "shell.execute_reply.started": "2021-10-08T06:45:51.688546Z",
          "shell.execute_reply": "2021-10-08T06:45:51.737612Z"
        },
        "trusted": true,
        "id": "9oJNl_ednILp"
      },
      "execution_count": null,
      "outputs": []
    },
    {
      "cell_type": "code",
      "source": [
        "# creating the text variable\n",
        "text1 = \" \".join(title for title in df.Title)"
      ],
      "metadata": {
        "execution": {
          "iopub.status.busy": "2021-10-08T06:45:52.568405Z",
          "iopub.execute_input": "2021-10-08T06:45:52.56883Z",
          "iopub.status.idle": "2021-10-08T06:45:52.575272Z",
          "shell.execute_reply.started": "2021-10-08T06:45:52.568779Z",
          "shell.execute_reply": "2021-10-08T06:45:52.574201Z"
        },
        "trusted": true,
        "id": "VQsQ-XghnILr"
      },
      "execution_count": null,
      "outputs": []
    },
    {
      "cell_type": "markdown",
      "source": [
        "So, the text variable contains a string made by joining all the titles"
      ],
      "metadata": {
        "id": "O_mvECrInILr"
      }
    },
    {
      "cell_type": "code",
      "source": [
        "# Creating word_cloud with text as argument in .generate() method\n",
        "\n",
        "word_cloud1 = WordCloud(collocations = False, background_color = 'white',\n",
        "                        width = 2048, height = 1080).generate(text1)\n",
        "# saving the image\n",
        "word_cloud1.to_file('got.png')"
      ],
      "metadata": {
        "execution": {
          "iopub.status.busy": "2021-10-08T06:45:54.082986Z",
          "iopub.execute_input": "2021-10-08T06:45:54.08351Z",
          "iopub.status.idle": "2021-10-08T06:45:58.604808Z",
          "shell.execute_reply.started": "2021-10-08T06:45:54.083463Z",
          "shell.execute_reply": "2021-10-08T06:45:58.603893Z"
        },
        "trusted": true,
        "id": "xewuxMgTnILs"
      },
      "execution_count": null,
      "outputs": []
    },
    {
      "cell_type": "code",
      "source": [
        "# Display the generated Word Cloud\n",
        "\n",
        "plt.imshow(word_cloud1, interpolation='bilinear')\n",
        "plt.axis(\"off\")\n",
        "plt.show()"
      ],
      "metadata": {
        "execution": {
          "iopub.status.busy": "2021-10-08T06:45:58.6064Z",
          "iopub.execute_input": "2021-10-08T06:45:58.606821Z",
          "iopub.status.idle": "2021-10-08T06:45:59.518101Z",
          "shell.execute_reply.started": "2021-10-08T06:45:58.606778Z",
          "shell.execute_reply": "2021-10-08T06:45:59.51694Z"
        },
        "trusted": true,
        "id": "g08GjOlRnILt"
      },
      "execution_count": null,
      "outputs": []
    },
    {
      "cell_type": "markdown",
      "source": [
        "# Word Cloud with given picture shape"
      ],
      "metadata": {
        "id": "S8ELzlirnILt"
      }
    },
    {
      "cell_type": "code",
      "source": [
        "# importing libraries\n",
        "\n",
        "import numpy as np\n",
        "import matplotlib.pyplot as plt\n",
        "%matplotlib inline\n",
        "from PIL import Image\n",
        "from wordcloud import WordCloud, ImageColorGenerator"
      ],
      "metadata": {
        "execution": {
          "iopub.status.busy": "2021-10-08T06:46:14.889131Z",
          "iopub.execute_input": "2021-10-08T06:46:14.889531Z",
          "iopub.status.idle": "2021-10-08T06:46:14.896922Z",
          "shell.execute_reply.started": "2021-10-08T06:46:14.88949Z",
          "shell.execute_reply": "2021-10-08T06:46:14.895474Z"
        },
        "trusted": true,
        "id": "mnoOpCdAnILt"
      },
      "execution_count": null,
      "outputs": []
    },
    {
      "cell_type": "markdown",
      "source": [
        "Here, I used text from a file"
      ],
      "metadata": {
        "id": "zKY2-lp6nILu"
      }
    },
    {
      "cell_type": "code",
      "source": [
        "# Reading text from a file\n",
        "text2 = open('../input/poetry/disney.txt', 'r').read()"
      ],
      "metadata": {
        "execution": {
          "iopub.status.busy": "2021-10-08T06:46:31.969005Z",
          "iopub.execute_input": "2021-10-08T06:46:31.969374Z",
          "iopub.status.idle": "2021-10-08T06:46:31.990116Z",
          "shell.execute_reply.started": "2021-10-08T06:46:31.96934Z",
          "shell.execute_reply": "2021-10-08T06:46:31.989033Z"
        },
        "trusted": true,
        "id": "v2oXwPO8nILu"
      },
      "execution_count": null,
      "outputs": []
    },
    {
      "cell_type": "code",
      "source": [
        "# word cloud will be made with the shape of this image\n",
        "\n",
        "background_image = np.array(Image.open('../input/disney-characters-dataset/cartoon/test/mickey/28de32146d9bfb991d0e859fca65f012.jpg'))\n",
        "plt.imshow(background_image)"
      ],
      "metadata": {
        "execution": {
          "iopub.status.busy": "2021-10-08T06:46:34.68312Z",
          "iopub.execute_input": "2021-10-08T06:46:34.683488Z",
          "iopub.status.idle": "2021-10-08T06:46:34.895128Z",
          "shell.execute_reply.started": "2021-10-08T06:46:34.683423Z",
          "shell.execute_reply": "2021-10-08T06:46:34.894057Z"
        },
        "trusted": true,
        "id": "BNjDi0EenILv"
      },
      "execution_count": null,
      "outputs": []
    },
    {
      "cell_type": "code",
      "source": [
        "# Creating word_cloud with text as argument in .generate() method\n",
        "word_cloud2 = WordCloud(background_color = 'white',mask = background_image,\n",
        "               width = 2048, height = 1080).generate(text2)\n",
        "\n",
        "# font color matching the masked image\n",
        "img_colors = ImageColorGenerator(background_image)\n",
        "word_cloud2.recolor(color_func = img_colors)\n",
        "\n",
        "#saving the image\n",
        "word_cloud2.to_file('disney.png')"
      ],
      "metadata": {
        "execution": {
          "iopub.status.busy": "2021-10-08T06:46:50.318951Z",
          "iopub.execute_input": "2021-10-08T06:46:50.319282Z",
          "iopub.status.idle": "2021-10-08T06:46:51.798373Z",
          "shell.execute_reply.started": "2021-10-08T06:46:50.319252Z",
          "shell.execute_reply": "2021-10-08T06:46:51.797464Z"
        },
        "trusted": true,
        "id": "ASOkymNknILv"
      },
      "execution_count": null,
      "outputs": []
    },
    {
      "cell_type": "code",
      "source": [
        "plt.imshow(word_cloud2, interpolation='bilinear')\n",
        "plt.axis(\"off\")\n",
        "plt.show()"
      ],
      "metadata": {
        "execution": {
          "iopub.status.busy": "2021-10-08T06:47:01.039159Z",
          "iopub.execute_input": "2021-10-08T06:47:01.039549Z",
          "iopub.status.idle": "2021-10-08T06:47:01.282086Z",
          "shell.execute_reply.started": "2021-10-08T06:47:01.039516Z",
          "shell.execute_reply": "2021-10-08T06:47:01.280907Z"
        },
        "trusted": true,
        "id": "YrjW4Pg_nILw"
      },
      "execution_count": null,
      "outputs": []
    },
    {
      "cell_type": "markdown",
      "source": [
        "**Read more at**\n",
        "- https://www.tutorialspoint.com/create-word-cloud-using-python\n",
        "- https://www.geeksforgeeks.org/generating-word-cloud-python/"
      ],
      "metadata": {
        "id": "KxyjBdyrnILw"
      }
    },
    {
      "cell_type": "markdown",
      "source": [
        "Please **upvote** if you like this notebook.<p>Thank You"
      ],
      "metadata": {
        "id": "tTfqzAaynILw"
      }
    }
  ]
}